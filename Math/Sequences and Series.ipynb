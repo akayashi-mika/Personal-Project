{
 "cells": [
  {
   "cell_type": "code",
   "execution_count": null,
   "metadata": {},
   "outputs": [],
   "source": [
    "import math\n",
    "import numpy"
   ]
  },
  {
   "cell_type": "code",
   "execution_count": null,
   "metadata": {},
   "outputs": [],
   "source": [
    "# Arithmetic Sequence\n",
    "# nthTerm = (d * n) + (d - firstTerm)\n",
    "\n",
    "firstTerm   =   int and float(input(\"First Term = \"))\n",
    "d   =   int and float(input(\"d = \"))\n",
    "p   =   int and float(input(\"p = \"))\n",
    "q   =   int and float(input(\"q = \"))\n",
    "\n",
    "pthTerm =   (d * p) + (d - firstTerm)\n",
    "qthTerm =   (d * q) + (d - firstTerm)\n",
    "mean    =   (pthTerm + qthTerm) / 2\n",
    "\n",
    "print(f\"Mean = {mean}\")"
   ]
  },
  {
   "cell_type": "code",
   "execution_count": null,
   "metadata": {},
   "outputs": [],
   "source": [
    "# Geometric Sequence\n",
    "# nthTerm =   firstTerm * (ratio ** (n - 1))\n",
    "\n",
    "firstTerm   =   int and float(input(\"First Term = \"))\n",
    "ratio   =   int and float(input(\"r = \"))\n",
    "k   =   int and float(input(\"k = \"))\n",
    "m   =   int and float(input(\"m = \"))\n",
    "\n",
    "kthTerm =   firstTerm * (ratio ** (k - 1))\n",
    "mthTerm =   firstTerm * (ratio ** (m - 1))\n",
    "mean    =   (kthTerm + mthTerm) / 2\n",
    "\n",
    "print(f\"Mean = {mean}\")"
   ]
  }
 ],
 "metadata": {
  "interpreter": {
   "hash": "e7370f93d1d0cde622a1f8e1c04877d8463912d04d973331ad4851f04de6915a"
  },
  "kernelspec": {
   "display_name": "Python 3.10.4 64-bit",
   "language": "python",
   "name": "python3"
  },
  "language_info": {
   "codemirror_mode": {
    "name": "ipython",
    "version": 3
   },
   "file_extension": ".py",
   "mimetype": "text/x-python",
   "name": "python",
   "nbconvert_exporter": "python",
   "pygments_lexer": "ipython3",
   "version": "3.10.4"
  },
  "orig_nbformat": 4
 },
 "nbformat": 4,
 "nbformat_minor": 2
}
