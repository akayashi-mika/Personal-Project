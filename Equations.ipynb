{
 "cells": [
  {
   "cell_type": "code",
   "execution_count": 5,
   "metadata": {},
   "outputs": [
    {
     "name": "stdout",
     "output_type": "stream",
     "text": [
      "\n",
      "y = mx + b\n"
     ]
    },
    {
     "ename": "ValueError",
     "evalue": "could not convert string to float: ''",
     "output_type": "error",
     "traceback": [
      "\u001b[0;31m---------------------------------------------------------------------------\u001b[0m",
      "\u001b[0;31mValueError\u001b[0m                                Traceback (most recent call last)",
      "\u001b[1;32m/home/mitsuki/git/repos/Personal-Project/Equations.ipynb Cell 1'\u001b[0m in \u001b[0;36m<cell line: 7>\u001b[0;34m()\u001b[0m\n\u001b[1;32m     <a href='vscode-notebook-cell:/home/mitsuki/git/repos/Personal-Project/Equations.ipynb#ch0000000?line=15'>16</a>\u001b[0m         y_intercept \u001b[39m=\u001b[39m b\n\u001b[1;32m     <a href='vscode-notebook-cell:/home/mitsuki/git/repos/Personal-Project/Equations.ipynb#ch0000000?line=17'>18</a>\u001b[0m         \u001b[39mprint\u001b[39m(\u001b[39mf\u001b[39m\u001b[39m'''\u001b[39m\u001b[39m\\n\u001b[39;00m\u001b[39mslope = \u001b[39m\u001b[39m{\u001b[39;00mslope\u001b[39m}\u001b[39;00m\n\u001b[1;32m     <a href='vscode-notebook-cell:/home/mitsuki/git/repos/Personal-Project/Equations.ipynb#ch0000000?line=18'>19</a>\u001b[0m \u001b[39mx-intercept = (\u001b[39m\u001b[39m{\u001b[39;00mx_intercept\u001b[39m}\u001b[39;00m\u001b[39m, 0)\u001b[39m\n\u001b[1;32m     <a href='vscode-notebook-cell:/home/mitsuki/git/repos/Personal-Project/Equations.ipynb#ch0000000?line=19'>20</a>\u001b[0m \u001b[39my-intercept = (0, \u001b[39m\u001b[39m{\u001b[39;00my_intercept\u001b[39m}\u001b[39;00m\u001b[39m)\u001b[39m\u001b[39m'''\u001b[39m)\n\u001b[0;32m---> <a href='vscode-notebook-cell:/home/mitsuki/git/repos/Personal-Project/Equations.ipynb#ch0000000?line=21'>22</a>\u001b[0m     Slope_Intercept_Form()\n\u001b[1;32m     <a href='vscode-notebook-cell:/home/mitsuki/git/repos/Personal-Project/Equations.ipynb#ch0000000?line=24'>25</a>\u001b[0m \u001b[39mif\u001b[39;00m form \u001b[39m==\u001b[39m \u001b[39m2\u001b[39m:\n\u001b[1;32m     <a href='vscode-notebook-cell:/home/mitsuki/git/repos/Personal-Project/Equations.ipynb#ch0000000?line=26'>27</a>\u001b[0m     \u001b[39mdef\u001b[39;00m \u001b[39mGeneral_Form\u001b[39m():\n",
      "\u001b[1;32m/home/mitsuki/git/repos/Personal-Project/Equations.ipynb Cell 1'\u001b[0m in \u001b[0;36mSlope_Intercept_Form\u001b[0;34m()\u001b[0m\n\u001b[1;32m      <a href='vscode-notebook-cell:/home/mitsuki/git/repos/Personal-Project/Equations.ipynb#ch0000000?line=8'>9</a>\u001b[0m \u001b[39mdef\u001b[39;00m \u001b[39mSlope_Intercept_Form\u001b[39m():\n\u001b[1;32m     <a href='vscode-notebook-cell:/home/mitsuki/git/repos/Personal-Project/Equations.ipynb#ch0000000?line=9'>10</a>\u001b[0m     \u001b[39mprint\u001b[39m(\u001b[39m'\u001b[39m\u001b[39m\\n\u001b[39;00m\u001b[39m'\u001b[39m\u001b[39m+\u001b[39m\u001b[39m'\u001b[39m\u001b[39my = mx + b\u001b[39m\u001b[39m'\u001b[39m)\n\u001b[0;32m---> <a href='vscode-notebook-cell:/home/mitsuki/git/repos/Personal-Project/Equations.ipynb#ch0000000?line=10'>11</a>\u001b[0m     m \u001b[39m=\u001b[39m \u001b[39mint\u001b[39m \u001b[39mand\u001b[39;00m \u001b[39mfloat\u001b[39;49m(\u001b[39minput\u001b[39;49m(\u001b[39m'\u001b[39;49m\u001b[39mm = \u001b[39;49m\u001b[39m'\u001b[39;49m))\n\u001b[1;32m     <a href='vscode-notebook-cell:/home/mitsuki/git/repos/Personal-Project/Equations.ipynb#ch0000000?line=11'>12</a>\u001b[0m     b \u001b[39m=\u001b[39m \u001b[39mint\u001b[39m \u001b[39mand\u001b[39;00m \u001b[39mfloat\u001b[39m(\u001b[39minput\u001b[39m(\u001b[39m'\u001b[39m\u001b[39mb = \u001b[39m\u001b[39m'\u001b[39m))\n\u001b[1;32m     <a href='vscode-notebook-cell:/home/mitsuki/git/repos/Personal-Project/Equations.ipynb#ch0000000?line=13'>14</a>\u001b[0m     slope \u001b[39m=\u001b[39m m\n",
      "\u001b[0;31mValueError\u001b[0m: could not convert string to float: ''"
     ]
    }
   ],
   "source": [
    "# Linear Equation\n",
    "\n",
    "form = int(input('''[1] Slope-Intercept Form \n",
    "[2] General Form\n",
    "> '''))\n",
    "\n",
    "if form == 1:\n",
    "    \n",
    "    def Slope_Intercept_Form():\n",
    "        print('\\n'+'y = mx + b')\n",
    "        m = int and float(input('m = '))\n",
    "        b = int and float(input('b = '))\n",
    "\n",
    "        slope = m\n",
    "        x_intercept = -(b/m)\n",
    "        y_intercept = b\n",
    "\n",
    "        print(f'''\\nslope = {slope}\n",
    "x-intercept = ({x_intercept}, 0)\n",
    "y-intercept = (0, {y_intercept})''')\n",
    "\n",
    "    Slope_Intercept_Form()\n",
    "\n",
    "\n",
    "if form == 2:\n",
    "\n",
    "    def General_Form():\n",
    "        print('\\nAx + By = C')\n",
    "        A = int and float(input('A = '))\n",
    "        B = int and float(input('B = '))\n",
    "        C = int and float(input('C = '))\n",
    "\n",
    "        slope = - (A / B)\n",
    "        x_intercept = C / A\n",
    "        y_intercept = C / B\n",
    "\n",
    "        print(f'''\\nslope = {slope}\n",
    "x-intercept = {x_intercept}\n",
    "y-intercept = {y_intercept}''')\n",
    "\n",
    "    General_Form()"
   ]
  },
  {
   "cell_type": "code",
   "execution_count": 6,
   "metadata": {},
   "outputs": [
    {
     "name": "stdout",
     "output_type": "stream",
     "text": [
      "\n",
      "f(x) = ax² + bx + c\n",
      "\n",
      "Discrimants:\n",
      "D = 4.0\n",
      "2 real rational unequal roots\n",
      "\n",
      "Roots:\n",
      "x = -4.0, -3.0\n",
      "sum = -7.0\n",
      "product = 12.0\n"
     ]
    }
   ],
   "source": [
    "# Quadratic Equation\n",
    "\n",
    "import math\n",
    "\n",
    "print('\\n'+'f(x) = ax\\u00b2 + bx + c')\n",
    "a = int and float(input('a = '))\n",
    "b = int and float(input('b = '))\n",
    "c = int and float(input('c = '))\n",
    "\n",
    "D = math.pow(b, 2) - (4 * a * c)\n",
    "\n",
    "def Discriminant():\n",
    "\n",
    "    print('\\nDiscrimants:')\n",
    "    print(f'D = {D}')\n",
    "\n",
    "    if D > 0:\n",
    "        if math.sqrt(D) == math.floor(math.sqrt(D)):\n",
    "            print('2 real rational unequal roots')\n",
    "        else:\n",
    "            print('2 real irrational unequal roots')\n",
    "\n",
    "    if D == 0:\n",
    "        print('1 real rational root')\n",
    "\n",
    "    if D < 0:\n",
    "        print('0 real roots / 2 imaginary roots')\n",
    "\n",
    "Discriminant()\n",
    "\n",
    "def Roots():\n",
    "\n",
    "    aa = (-b - math.sqrt((b ** 2) - (4 * a * c))) / (2 * a)\n",
    "    bb = (-b + math.sqrt((b ** 2) - (4 * a * c))) / (2 * a)\n",
    "    sum = aa + bb\n",
    "    product = aa * bb\n",
    "\n",
    "    print('\\nRoots:')\n",
    "    if D == 0:\n",
    "        print(f'x = {aa}')\n",
    "        print(f'sum = {aa}')\n",
    "        print(f'product = {aa}')\n",
    "\n",
    "    else:\n",
    "\n",
    "        if D > 0:\n",
    "            if math.sqrt(D) == math.floor(math.sqrt(D)):\n",
    "                print(f'x = {aa}, {bb}')\n",
    "                print(f'sum = {sum}')\n",
    "                print(f'product = {product}')\n",
    "\n",
    "            else:\n",
    "                print(f'x = {aa}, {bb}')\n",
    "                print(f'sum = {sum}')\n",
    "                print(f'product = {product}')\n",
    "\n",
    "        if D < 0:\n",
    "            print(f'x = {aa}, {bb}')\n",
    "            print(f'sum = {sum}')\n",
    "            print(f'product = {product}')\n",
    "\n",
    "Roots()"
   ]
  }
 ],
 "metadata": {
  "interpreter": {
   "hash": "e7370f93d1d0cde622a1f8e1c04877d8463912d04d973331ad4851f04de6915a"
  },
  "kernelspec": {
   "display_name": "Python 3.10.4 64-bit",
   "language": "python",
   "name": "python3"
  },
  "language_info": {
   "codemirror_mode": {
    "name": "ipython",
    "version": 3
   },
   "file_extension": ".py",
   "mimetype": "text/x-python",
   "name": "python",
   "nbconvert_exporter": "python",
   "pygments_lexer": "ipython3",
   "version": "3.10.4"
  },
  "orig_nbformat": 4
 },
 "nbformat": 4,
 "nbformat_minor": 2
}
